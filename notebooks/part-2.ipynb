{
 "cells": [
  {
   "cell_type": "markdown",
   "id": "1a2d6261",
   "metadata": {},
   "source": [
    "\n",
    "# IND320 — Project Work, Part 2: Data Sources\n",
    "\n",
    "## Links\n",
    "- **Live app:** https://ind320-project-work-nonewthing.streamlit.app\n",
    "- **Repo:** https://github.com/TaoM29/IND320-dashboard-basics\n",
    "\n",
    "## Plan for Part 2\n",
    "1. Fetch Elhub **PRODUCTION_PER_GROUP_MBA_HOUR** for **2021** (chunked by month).\n",
    "2. Parse `productionPerGroupMbaHour` → tidy DataFrame (`priceArea, productionGroup, startTime, endTime, quantityKwh`).\n",
    "3. Write DataFrame to **Cassandra** (`ind320.elhub_production_raw`) via **Spark**.\n",
    "4. Use **Spark** to select: `priceArea, productionGroup, startTime, quantityKwh`.\n",
    "5. Plots:\n",
    "   - Pie: total 2021 by **production group** for a chosen **price area**.\n",
    "   - Line: **January 2021** for a chosen **price area**, separate lines per **production group**.\n",
    "6. Insert curated data into **MongoDB** (for Streamlit).\n",
    "7. Log (300–500 words) + brief AI usage note."
   ]
  }
 ],
 "metadata": {
  "language_info": {
   "name": "python"
  }
 },
 "nbformat": 4,
 "nbformat_minor": 5
}
