{
 "cells": [
  {
   "cell_type": "markdown",
   "id": "293486a9",
   "metadata": {},
   "source": [
    "# Part 3 — Data Quality\n",
    "\n",
    "**Course:** IND320"
   ]
  }
 ],
 "metadata": {},
 "nbformat": 4,
 "nbformat_minor": 5
}