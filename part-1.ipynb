{
 "cells": [
  {
   "cell_type": "code",
   "execution_count": null,
   "id": "7827cb64",
   "metadata": {},
   "outputs": [],
   "source": [
    "# IND320 Project Work — Part 1: Dashboard Basics\n",
    "\n",
    "## Links\n",
    "- **Streamlit app:** https://ind320-project-work-nonewthing.streamlit.app\n",
    "- **GitHub repository:** https://github.com/TaoM29/IND320-project-work\n",
    "\n",
    "## AI usage (brief)\n",
    "I used ChatGPT to scaffold the repository, create a minimal Streamlit app (`app.py`), set up `requirements.txt`, and guide step-by-step Git/GitHub/Streamlit deployment.\n",
    "\n",
    "## Work log (300–500 words)\n",
    "*(to be completed after finishing Part 1 — will reflect on Jupyter vs. Streamlit experience, issues faced, and decisions.)*\n",
    "\n",
    "## Notebook structure / navigation\n",
    "1. Introduction  \n",
    "2. Dataset description  \n",
    "3. EDA  \n",
    "4. Visualizations  \n",
    "5. Insights  \n",
    "6. Next steps\n"
   ]
  }
 ],
 "metadata": {
  "language_info": {
   "name": "python"
  }
 },
 "nbformat": 4,
 "nbformat_minor": 5
}
